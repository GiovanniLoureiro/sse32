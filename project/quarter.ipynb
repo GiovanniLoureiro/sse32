{
 "cells": [
  {
   "cell_type": "code",
   "execution_count": 21,
   "id": "d4b7a623",
   "metadata": {},
   "outputs": [],
   "source": [
    "import os\n",
    "import pandas as pd"
   ]
  },
  {
   "cell_type": "code",
   "execution_count": 22,
   "id": "b385cc7b",
   "metadata": {},
   "outputs": [
    {
     "data": {
      "text/html": [
       "<div>\n",
       "<style scoped>\n",
       "    .dataframe tbody tr th:only-of-type {\n",
       "        vertical-align: middle;\n",
       "    }\n",
       "\n",
       "    .dataframe tbody tr th {\n",
       "        vertical-align: top;\n",
       "    }\n",
       "\n",
       "    .dataframe thead th {\n",
       "        text-align: right;\n",
       "    }\n",
       "</style>\n",
       "<table border=\"1\" class=\"dataframe\">\n",
       "  <thead>\n",
       "    <tr style=\"text-align: right;\">\n",
       "      <th></th>\n",
       "      <th>event_time</th>\n",
       "      <th>event_type</th>\n",
       "      <th>product_id</th>\n",
       "      <th>category_id</th>\n",
       "      <th>category_code</th>\n",
       "      <th>brand</th>\n",
       "      <th>price</th>\n",
       "      <th>user_id</th>\n",
       "      <th>user_session</th>\n",
       "    </tr>\n",
       "  </thead>\n",
       "  <tbody>\n",
       "    <tr>\n",
       "      <th>0</th>\n",
       "      <td>2019-10-01 00:00:00 UTC</td>\n",
       "      <td>view</td>\n",
       "      <td>44600062</td>\n",
       "      <td>2103807459595387724</td>\n",
       "      <td>NaN</td>\n",
       "      <td>shiseido</td>\n",
       "      <td>35.79</td>\n",
       "      <td>541312140</td>\n",
       "      <td>72d76fde-8bb3-4e00-8c23-a032dfed738c</td>\n",
       "    </tr>\n",
       "    <tr>\n",
       "      <th>1</th>\n",
       "      <td>2019-10-01 00:00:00 UTC</td>\n",
       "      <td>view</td>\n",
       "      <td>3900821</td>\n",
       "      <td>2053013552326770905</td>\n",
       "      <td>appliances.environment.water_heater</td>\n",
       "      <td>aqua</td>\n",
       "      <td>33.20</td>\n",
       "      <td>554748717</td>\n",
       "      <td>9333dfbd-b87a-4708-9857-6336556b0fcc</td>\n",
       "    </tr>\n",
       "    <tr>\n",
       "      <th>2</th>\n",
       "      <td>2019-10-01 00:00:01 UTC</td>\n",
       "      <td>view</td>\n",
       "      <td>17200506</td>\n",
       "      <td>2053013559792632471</td>\n",
       "      <td>furniture.living_room.sofa</td>\n",
       "      <td>NaN</td>\n",
       "      <td>543.10</td>\n",
       "      <td>519107250</td>\n",
       "      <td>566511c2-e2e3-422b-b695-cf8e6e792ca8</td>\n",
       "    </tr>\n",
       "    <tr>\n",
       "      <th>3</th>\n",
       "      <td>2019-10-01 00:00:01 UTC</td>\n",
       "      <td>view</td>\n",
       "      <td>1307067</td>\n",
       "      <td>2053013558920217191</td>\n",
       "      <td>computers.notebook</td>\n",
       "      <td>lenovo</td>\n",
       "      <td>251.74</td>\n",
       "      <td>550050854</td>\n",
       "      <td>7c90fc70-0e80-4590-96f3-13c02c18c713</td>\n",
       "    </tr>\n",
       "    <tr>\n",
       "      <th>4</th>\n",
       "      <td>2019-10-01 00:00:04 UTC</td>\n",
       "      <td>view</td>\n",
       "      <td>1004237</td>\n",
       "      <td>2053013555631882655</td>\n",
       "      <td>electronics.smartphone</td>\n",
       "      <td>apple</td>\n",
       "      <td>1081.98</td>\n",
       "      <td>535871217</td>\n",
       "      <td>c6bd7419-2748-4c56-95b4-8cec9ff8b80d</td>\n",
       "    </tr>\n",
       "  </tbody>\n",
       "</table>\n",
       "</div>"
      ],
      "text/plain": [
       "                event_time event_type  product_id          category_id  \\\n",
       "0  2019-10-01 00:00:00 UTC       view    44600062  2103807459595387724   \n",
       "1  2019-10-01 00:00:00 UTC       view     3900821  2053013552326770905   \n",
       "2  2019-10-01 00:00:01 UTC       view    17200506  2053013559792632471   \n",
       "3  2019-10-01 00:00:01 UTC       view     1307067  2053013558920217191   \n",
       "4  2019-10-01 00:00:04 UTC       view     1004237  2053013555631882655   \n",
       "\n",
       "                         category_code     brand    price    user_id  \\\n",
       "0                                  NaN  shiseido    35.79  541312140   \n",
       "1  appliances.environment.water_heater      aqua    33.20  554748717   \n",
       "2           furniture.living_room.sofa       NaN   543.10  519107250   \n",
       "3                   computers.notebook    lenovo   251.74  550050854   \n",
       "4               electronics.smartphone     apple  1081.98  535871217   \n",
       "\n",
       "                           user_session  \n",
       "0  72d76fde-8bb3-4e00-8c23-a032dfed738c  \n",
       "1  9333dfbd-b87a-4708-9857-6336556b0fcc  \n",
       "2  566511c2-e2e3-422b-b695-cf8e6e792ca8  \n",
       "3  7c90fc70-0e80-4590-96f3-13c02c18c713  \n",
       "4  c6bd7419-2748-4c56-95b4-8cec9ff8b80d  "
      ]
     },
     "execution_count": 22,
     "metadata": {},
     "output_type": "execute_result"
    }
   ],
   "source": [
    "# read data\n",
    "# Specify the subdirectory and the file name\n",
    "subdirectory = \"archive\"\n",
    "file_name = \"2019-Oct_quarter.csv\"\n",
    "\n",
    "# Construct the full file path\n",
    "file_path = os.path.join(os.getcwd(), subdirectory, file_name)\n",
    "\n",
    "# Read the file using pandas\n",
    "df = pd.read_csv(file_path)\n",
    "df.head()"
   ]
  },
  {
   "cell_type": "code",
   "execution_count": 38,
   "id": "02d1652b",
   "metadata": {},
   "outputs": [
    {
     "name": "stdout",
     "output_type": "stream",
     "text": [
      "                    category_code     count\n",
      "97         electronics.smartphone  11507231\n",
      "96             electronics.clocks   1311033\n",
      "70             computers.notebook   1137623\n",
      "101          electronics.video.tv   1113750\n",
      "90    electronics.audio.headphone   1100188\n",
      "..                            ...       ...\n",
      "83   construction.tools.soldering       632\n",
      "19                 apparel.shorts       632\n",
      "6                  apparel.jacket       436\n",
      "54   auto.accessories.anti_freeze       308\n",
      "86   country_yard.furniture.bench       190\n",
      "\n",
      "[126 rows x 2 columns]\n"
     ]
    }
   ],
   "source": [
    "##how many ppl are buying each category\n",
    "df_groupby = df.groupby(['category_code'])['user_id'].count() \\\n",
    "                             .reset_index(name='count') \\\n",
    "                             .sort_values(['count'], ascending=False) \n",
    "\n",
    "\n",
    "\n",
    "\n",
    "print(df_groupby)"
   ]
  },
  {
   "cell_type": "code",
   "execution_count": 39,
   "id": "0e4dad46",
   "metadata": {},
   "outputs": [
    {
     "name": "stdout",
     "output_type": "stream",
     "text": [
      "           user_id  mean_price\n",
      "878980   523656508     2574.07\n",
      "1316706  539011738     2574.07\n",
      "2429972  559864197     2574.07\n",
      "2013575  555853637     2574.07\n",
      "1552448  545276473     2574.07\n",
      "...            ...         ...\n",
      "55674    512566317        0.00\n",
      "2816372  563839565        0.00\n",
      "1236834  536418473        0.00\n",
      "1616470  547009767        0.00\n",
      "366141   515187251        0.00\n",
      "\n",
      "[3022290 rows x 2 columns]\n"
     ]
    }
   ],
   "source": [
    "##avg and max price count for each user id\n",
    "df_groupby = df.groupby(['user_id'])['price'].mean() \\\n",
    "                             .reset_index(name='mean_price') \\\n",
    "                             .sort_values(['mean_price'], ascending=False) \n",
    "\n",
    "print(df_groupby)"
   ]
  },
  {
   "cell_type": "code",
   "execution_count": 40,
   "id": "3a90e5a8",
   "metadata": {},
   "outputs": [
    {
     "name": "stdout",
     "output_type": "stream",
     "text": [
      "           user_id  max_price\n",
      "766008   520801931    2574.07\n",
      "364582   515173671    2574.07\n",
      "1524793  544545993    2574.07\n",
      "1060780  529863594    2574.07\n",
      "499746   516647351    2574.07\n",
      "...            ...        ...\n",
      "2013615  555853979       0.00\n",
      "1417823  542015041       0.00\n",
      "323242   514760545       0.00\n",
      "556147   517471186       0.00\n",
      "496029   516612820       0.00\n",
      "\n",
      "[3022290 rows x 2 columns]\n"
     ]
    }
   ],
   "source": [
    "df_groupby = df.groupby(['user_id'])['price'].max() \\\n",
    "                             .reset_index(name='max_price') \\\n",
    "                             .sort_values(['max_price'], ascending=False) \n",
    "print(df_groupby)"
   ]
  },
  {
   "cell_type": "code",
   "execution_count": 41,
   "id": "533f9440",
   "metadata": {},
   "outputs": [
    {
     "name": "stdout",
     "output_type": "stream",
     "text": [
      "           user_id  count\n",
      "40079    512475445   6304\n",
      "21430    512365995   4001\n",
      "44956    512505687   2891\n",
      "123300   513021392   2837\n",
      "976096   526731152   2316\n",
      "...            ...    ...\n",
      "1294742  538317146      0\n",
      "2739403  563052393      0\n",
      "2739417  563052525      0\n",
      "1294671  538315306      0\n",
      "3022289  566280860      0\n",
      "\n",
      "[3022290 rows x 2 columns]\n"
     ]
    }
   ],
   "source": [
    "##brand count for each user id\n",
    "df_groupby = df.groupby(['user_id'])['brand'].count()\\\n",
    "                             .reset_index(name='count') \\\n",
    "                             .sort_values(['count'], ascending=False) \n",
    "print(df_groupby)"
   ]
  },
  {
   "cell_type": "code",
   "execution_count": 42,
   "id": "a4262331",
   "metadata": {},
   "outputs": [
    {
     "name": "stdout",
     "output_type": "stream",
     "text": [
      "user_id    3022290\n",
      "dtype: int64\n"
     ]
    }
   ],
   "source": [
    "##number of distinct user ids\n",
    "df_ids = df[['user_id']].nunique() \n",
    "print(df_ids)"
   ]
  },
  {
   "cell_type": "code",
   "execution_count": 43,
   "id": "e7525f27",
   "metadata": {},
   "outputs": [
    {
     "name": "stdout",
     "output_type": "stream",
     "text": [
      "product_id    166794\n",
      "dtype: int64\n"
     ]
    }
   ],
   "source": [
    "##number of distinct product ids\n",
    "df_ids = df[['product_id']].nunique() \n",
    "print(df_ids)"
   ]
  },
  {
   "cell_type": "code",
   "execution_count": 44,
   "id": "ea5237c9",
   "metadata": {},
   "outputs": [
    {
     "name": "stdout",
     "output_type": "stream",
     "text": [
      "category_id    624\n",
      "dtype: int64\n"
     ]
    }
   ],
   "source": [
    "##number of distinct cat ids\n",
    "df_ids = df[['category_id']].nunique() \n",
    "print(df_ids)"
   ]
  },
  {
   "cell_type": "code",
   "execution_count": 45,
   "id": "6cd3b73f",
   "metadata": {},
   "outputs": [
    {
     "name": "stdout",
     "output_type": "stream",
     "text": [
      "brand    3444\n",
      "dtype: int64\n"
     ]
    }
   ],
   "source": [
    "##number of distinct brands\n",
    "df_ids = df[['brand']].nunique() #35 s\n",
    "print(df_ids)"
   ]
  }
 ],
 "metadata": {
  "kernelspec": {
   "display_name": "Python 3 (ipykernel)",
   "language": "python",
   "name": "python3"
  },
  "language_info": {
   "codemirror_mode": {
    "name": "ipython",
    "version": 3
   },
   "file_extension": ".py",
   "mimetype": "text/x-python",
   "name": "python",
   "nbconvert_exporter": "python",
   "pygments_lexer": "ipython3",
   "version": "3.7.9"
  }
 },
 "nbformat": 4,
 "nbformat_minor": 5
}

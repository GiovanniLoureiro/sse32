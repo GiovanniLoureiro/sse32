{
 "cells": [
  {
   "cell_type": "code",
   "execution_count": 212,
   "id": "752a2a7d",
   "metadata": {},
   "outputs": [],
   "source": [
    "import pandas as pd\n",
    "import matplotlib.pyplot as plt"
   ]
  },
  {
   "cell_type": "code",
   "execution_count": 323,
   "id": "e77dea29",
   "metadata": {},
   "outputs": [],
   "source": [
    "################# QUARTER ###############\n",
    "\n",
    "jupyter_avg = []\n",
    "for i in range(1,21):\n",
    "    try:\n",
    "        df_temp = pd.read_csv(f\"results_3\\\\results\\\\jupyter_quarter{i}.csv\")\n",
    "        min_val = df_temp['SYSTEM_POWER (Watts)'].min()\n",
    "        df_temp['SYSTEM_POWER (Watts)'] = df_temp['SYSTEM_POWER (Watts)'] - min_val\n",
    "        jupyter_avg.append([i, df_temp['SYSTEM_POWER (Watts)'].sum()])\n",
    "    except:\n",
    "        print(f\"file jupyter {i} not found\")\n",
    "    \n",
    "    \n",
    "pycharm_avg = []\n",
    "for i in range(1,21):\n",
    "    try:\n",
    "        df_temp = pd.read_csv(f\"results_3\\\\results\\\\pycharm_quarter{i}.csv\")\n",
    "        min_val = df_temp['SYSTEM_POWER (Watts)'].min()\n",
    "        df_temp['SYSTEM_POWER (Watts)'] = df_temp['SYSTEM_POWER (Watts)'] - min_val\n",
    "        pycharm_avg.append([i, df_temp['SYSTEM_POWER (Watts)'].sum()])\n",
    "    except:\n",
    "        print(f\"file pycharm {i} not found\")\n",
    "    \n",
    "    \n",
    "terminal_avg = []\n",
    "for i in range(1,21):\n",
    "    try:\n",
    "        df_temp = pd.read_csv(f\"results_3\\\\results\\\\terminal_quarter{i}.csv\")\n",
    "        min_val = df_temp['SYSTEM_POWER (Watts)'].min()\n",
    "        df_temp['SYSTEM_POWER (Watts)'] = df_temp['SYSTEM_POWER (Watts)'] - min_val\n",
    "        terminal_avg.append([i, df_temp['SYSTEM_POWER (Watts)'].sum()])     \n",
    "    except:\n",
    "        print(f\"file terminal {i} not found\")"
   ]
  },
  {
   "cell_type": "code",
   "execution_count": 324,
   "id": "d73840ab",
   "metadata": {
    "scrolled": true
   },
   "outputs": [
    {
     "name": "stdout",
     "output_type": "stream",
     "text": [
      "jupyter_avg: [[1, 797.2041201591492], [2, 1201.5511907339096], [3, 906.2357827425003], [4, 855.4046211242676], [5, 877.1780133247375], [6, 878.7325892448425], [7, 956.1984910964966], [8, 1110.7722487449646], [9, 960.9982714653015], [10, 869.6370768547058], [11, 864.6358532905579], [12, 837.3751978874207], [13, 935.8356342315674], [14, 870.9136619567871], [15, 879.6035103797913], [16, 963.4847531318665], [17, 863.1149134635925], [18, 824.1026906967163], [19, 825.055501461029], [20, 837.9621267318726]]\n",
      "\n",
      "\n",
      "pycharm_avg:  [[1, 2790.4709281921387], [2, 2795.072361469269], [3, 2820.736825466156], [4, 2858.085690975189], [5, 2910.954282283783], [6, 2769.448434829712], [7, 2904.1435194015503], [8, 2788.3368859291077], [9, 2751.202877521515], [10, 2786.839276790619], [11, 2864.3028774261475], [12, 2696.3097200393677], [13, 2839.045268535614], [14, 2861.48903799057], [15, 2765.876139163971], [16, 2835.8218212127686], [17, 2916.8968200683594], [18, 2872.3427119255066], [19, 2781.075716495514], [20, 2823.489688396454]]\n",
      "\n",
      "\n",
      "terminal_avg:  [[1, 808.0921459197998], [2, 843.8997006416321], [3, 799.4323720932007], [4, 792.6601724624634], [5, 774.6094365119934], [6, 782.5614566802979], [7, 779.2452011108398], [8, 817.9716320037842], [9, 772.0537757873535], [10, 817.0384292602539], [11, 780.7036571502686], [12, 775.6645817756653], [13, 772.7913098335266], [14, 778.5073399543762], [15, 788.1585097312927], [16, 856.8996953964233], [17, 782.5199298858643], [18, 781.4461808204651], [19, 801.8411655426025], [20, 770.5087027549744]]\n"
     ]
    }
   ],
   "source": [
    "print(\"jupyter_avg:\", jupyter_avg)\n",
    "print(\"\\n\")\n",
    "print(\"pycharm_avg: \", pycharm_avg)\n",
    "print(\"\\n\")\n",
    "print(\"terminal_avg: \", terminal_avg)"
   ]
  },
  {
   "cell_type": "code",
   "execution_count": 327,
   "id": "e18fb410",
   "metadata": {},
   "outputs": [],
   "source": [
    "df_jupyter_avg = pd.DataFrame(jupyter_avg, columns = ['run','power_watts'])\n",
    "\n",
    "df_pycharm_avg = pd.DataFrame(pycharm_avg, columns = ['run','power_watts'])\n",
    "\n",
    "df_terminal_avg = pd.DataFrame(terminal_avg, columns = ['run','power_watts'])"
   ]
  },
  {
   "cell_type": "code",
   "execution_count": 328,
   "id": "b0008ac3",
   "metadata": {},
   "outputs": [
    {
     "data": {
      "image/png": "[encoded data removed]",
      "text/plain": [
       "<Figure size 432x288 with 1 Axes>"
      ]
     },
     "metadata": {
      "needs_background": "light"
     },
     "output_type": "display_data"
    }
   ],
   "source": [
    "fig, axes = plt.subplots()\n",
    "\n",
    "axes.violinplot(dataset = [df_jupyter_avg[\"power_watts\"].values,\n",
    "                           df_pycharm_avg[\"power_watts\"].values,\n",
    "                           df_terminal_avg[\"power_watts\"].values])\n",
    "\n",
    "axes.set_xticks([1, 2, 3])\n",
    "axes.set_xticklabels(['Jupyter', 'PyCharm', 'Terminal'])\n",
    "plt.title('Power Consumption for File Size 1.42 GB')\n",
    "plt.ylabel(\"Power consumed in Watts\")\n",
    "\n",
    "plt.show() #quarter"
   ]
  },
  {
   "cell_type": "code",
   "execution_count": 329,
   "id": "4a584542",
   "metadata": {},
   "outputs": [],
   "source": [
    "################# HALF ###############\n",
    "\n",
    "jupyter_avg = []\n",
    "for i in range(1,21):\n",
    "    try:\n",
    "        df_temp = pd.read_csv(f\"results_3\\\\results\\\\jupyter_half{i}.csv\")\n",
    "        min_val = df_temp['SYSTEM_POWER (Watts)'].min()\n",
    "        df_temp['SYSTEM_POWER (Watts)'] = df_temp['SYSTEM_POWER (Watts)'] - min_val\n",
    "        jupyter_avg.append([i, df_temp['SYSTEM_POWER (Watts)'].sum()])\n",
    "    except Exception as error:\n",
    "        print(f\"file jupyter {i} not found\") \n",
    "    \n",
    "pycharm_avg = []\n",
    "for i in range(1,21):\n",
    "    try:\n",
    "        df_temp = pd.read_csv(f\"results_3\\\\results\\\\pycharm_half{i}.csv\")\n",
    "        min_val = df_temp['SYSTEM_POWER (Watts)'].min()\n",
    "        df_temp['SYSTEM_POWER (Watts)'] = df_temp['SYSTEM_POWER (Watts)'] - min_val\n",
    "        pycharm_avg.append([i, df_temp['SYSTEM_POWER (Watts)'].sum()])\n",
    "    except Exception as error:\n",
    "        print(f\"file pycharm {i} not found\") \n",
    "    \n",
    "    \n",
    "terminal_avg = []\n",
    "for i in range(1,21):\n",
    "    try:\n",
    "        df_temp = pd.read_csv(f\"results_3\\\\results\\\\terminal_half{i}.csv\")\n",
    "        min_val = df_temp['SYSTEM_POWER (Watts)'].min()\n",
    "        df_temp['SYSTEM_POWER (Watts)'] = df_temp['SYSTEM_POWER (Watts)'] - min_val\n",
    "        terminal_avg.append([i, df_temp['SYSTEM_POWER (Watts)'].sum()])     \n",
    "    except Exception as error:\n",
    "        print(f\"file terminal {i} not found\")   "
   ]
  },
  {
   "cell_type": "code",
   "execution_count": 330,
   "id": "8ec4a4ea",
   "metadata": {},
   "outputs": [
    {
     "name": "stdout",
     "output_type": "stream",
     "text": [
      "jupyter_avg:  [[1, 1526.1822438240051], [2, 1626.1174683570853], [3, 1646.888831615448], [4, 1657.0251893997192], [5, 1523.7508969306946], [6, 1534.8741488456726], [7, 1590.9741439819336], [8, 2196.689700603485], [9, 1609.023133277893], [10, 1512.0774292945862], [11, 1714.319854259491], [12, 1671.6876091957092], [13, 1511.6963167190552], [14, 1513.366940021515], [15, 1517.850239276886], [16, 1605.0867867469788], [17, 1536.6909518241878], [18, 1510.4543900489807], [19, 1521.778250694275], [20, 1649.0703673362732]]\n",
      "\n",
      "\n",
      "pycharm_avg:  [[1, 4031.860698223114], [2, 4161.120885848999], [3, 4163.160983085632], [4, 4063.914472579956], [5, 3968.2460346221924], [6, 4051.902515411377], [7, 4186.617745876312], [8, 4159.152865409851], [9, 4194.484595775604], [10, 4030.322965145111], [11, 4336.579414367676], [12, 4129.216878890991], [13, 4204.221688747406], [14, 4223.620803356171], [15, 4093.574664592743], [16, 4321.983298301697], [17, 4263.764370441437], [18, 4376.919407367706], [19, 4039.6475286483765], [20, 4300.410675525665]]\n",
      "\n",
      "\n",
      "terminal_avg:  [[1, 1572.6151189804077], [2, 1468.9602913856506], [3, 1471.298607826233], [4, 1652.7069382667542], [5, 1521.1920280456543], [6, 1585.7712106704712], [7, 1773.8078274726868], [8, 1822.4673066139221], [9, 1603.6304454803467], [10, 1488.5531558990479], [11, 1502.753035068512], [12, 1532.9873142242432], [13, 1504.0417761802673], [14, 1582.6699213981628], [15, 1549.6218857765198], [16, 1772.9966220855713], [17, 1502.5425071716309], [18, 1699.4240503311157], [19, 1482.9625582695007], [20, 1534.1040377616882]]\n"
     ]
    }
   ],
   "source": [
    "print(\"jupyter_avg: \", jupyter_avg)\n",
    "print(\"\\n\")\n",
    "print(\"pycharm_avg: \", pycharm_avg)\n",
    "print(\"\\n\")\n",
    "print(\"terminal_avg: \", terminal_avg)"
   ]
  },
  {
   "cell_type": "code",
   "execution_count": 333,
   "id": "d7d1bd83",
   "metadata": {},
   "outputs": [
    {
     "data": {
      "text/html": [
       "<div>\n",
       "<style scoped>\n",
       "    .dataframe tbody tr th:only-of-type {\n",
       "        vertical-align: middle;\n",
       "    }\n",
       "\n",
       "    .dataframe tbody tr th {\n",
       "        vertical-align: top;\n",
       "    }\n",
       "\n",
       "    .dataframe thead th {\n",
       "        text-align: right;\n",
       "    }\n",
       "</style>\n",
       "<table border=\"1\" class=\"dataframe\">\n",
       "  <thead>\n",
       "    <tr style=\"text-align: right;\">\n",
       "      <th></th>\n",
       "      <th>run</th>\n",
       "      <th>power_watts</th>\n",
       "    </tr>\n",
       "  </thead>\n",
       "  <tbody>\n",
       "    <tr>\n",
       "      <th>0</th>\n",
       "      <td>1</td>\n",
       "      <td>1572.615119</td>\n",
       "    </tr>\n",
       "    <tr>\n",
       "      <th>1</th>\n",
       "      <td>2</td>\n",
       "      <td>1468.960291</td>\n",
       "    </tr>\n",
       "    <tr>\n",
       "      <th>2</th>\n",
       "      <td>3</td>\n",
       "      <td>1471.298608</td>\n",
       "    </tr>\n",
       "    <tr>\n",
       "      <th>3</th>\n",
       "      <td>4</td>\n",
       "      <td>1652.706938</td>\n",
       "    </tr>\n",
       "    <tr>\n",
       "      <th>4</th>\n",
       "      <td>5</td>\n",
       "      <td>1521.192028</td>\n",
       "    </tr>\n",
       "  </tbody>\n",
       "</table>\n",
       "</div>"
      ],
      "text/plain": [
       "   run  power_watts\n",
       "0    1  1572.615119\n",
       "1    2  1468.960291\n",
       "2    3  1471.298608\n",
       "3    4  1652.706938\n",
       "4    5  1521.192028"
      ]
     },
     "execution_count": 333,
     "metadata": {},
     "output_type": "execute_result"
    }
   ],
   "source": [
    "df_jupyter_avg = pd.DataFrame(jupyter_avg, columns = ['run','power_watts'])\n",
    "\n",
    "df_pycharm_avg = pd.DataFrame(pycharm_avg, columns = ['run','power_watts'])\n",
    "\n",
    "df_terminal_avg = pd.DataFrame(terminal_avg, columns = ['run','power_watts'])"
   ]
  },
  {
   "cell_type": "code",
   "execution_count": 334,
   "id": "d6612f5d",
   "metadata": {},
   "outputs": [
    {
     "data": {
      "image/png": "[encoded data removed]",
      "text/plain": [
       "<Figure size 432x288 with 1 Axes>"
      ]
     },
     "metadata": {
      "needs_background": "light"
     },
     "output_type": "display_data"
    }
   ],
   "source": [
    "fig, axes = plt.subplots()\n",
    "\n",
    "axes.violinplot(dataset = [df_jupyter_avg[\"power_watts\"].values,\n",
    "                           df_pycharm_avg[\"power_watts\"].values,\n",
    "                           df_terminal_avg[\"power_watts\"].values])\n",
    "\n",
    "axes.set_xticks([1, 2, 3])\n",
    "axes.set_xticklabels(['Jupyter', 'PyCharm', 'Terminal'])\n",
    "plt.title('Power Consumption for File Size 2.83 GB')\n",
    "plt.ylabel(\"Power consumed in Watts\")\n",
    "\n",
    "plt.show() #half"
   ]
  },
  {
   "cell_type": "code",
   "execution_count": 335,
   "id": "9da1ce97",
   "metadata": {},
   "outputs": [],
   "source": [
    "################# EIGHTH ###############\n",
    "\n",
    "jupyter_avg = []\n",
    "for i in range(1,21):\n",
    "    try:\n",
    "        df_temp = pd.read_csv(f\"res_eighth\\\\jupyter_eigth{i}.csv\")\n",
    "        min_val = df_temp['SYSTEM_POWER (Watts)'].min()\n",
    "        df_temp['SYSTEM_POWER (Watts)'] = df_temp['SYSTEM_POWER (Watts)'] - min_val\n",
    "        jupyter_avg.append([i, df_temp['SYSTEM_POWER (Watts)'].sum()])\n",
    "    except:\n",
    "        print(f\"jupyter {i} not found\")        \n",
    "    \n",
    "pycharm_avg = []\n",
    "for i in range(1,21):\n",
    "    try:\n",
    "        df_temp = pd.read_csv(f\"res_eighth\\\\pycharm_eigth{i}.csv\")\n",
    "        min_val = df_temp['SYSTEM_POWER (Watts)'].min()\n",
    "        df_temp['SYSTEM_POWER (Watts)'] = df_temp['SYSTEM_POWER (Watts)'] - min_val\n",
    "        pycharm_avg.append([i, df_temp['SYSTEM_POWER (Watts)'].sum()])\n",
    "    except:\n",
    "        print(f\"pycharm {i} not found\")     \n",
    "    \n",
    "terminal_avg = []\n",
    "for i in range(1,21):\n",
    "    try:\n",
    "        df_temp = pd.read_csv(f\"res_eighth\\\\terminal_eigth{i}.csv\")\n",
    "        min_val = df_temp['SYSTEM_POWER (Watts)'].min()\n",
    "#         print(min_val)\n",
    "        df_temp['SYSTEM_POWER (Watts)'] = df_temp['SYSTEM_POWER (Watts)'] - min_val\n",
    "        terminal_avg.append([i, df_temp['SYSTEM_POWER (Watts)'].sum()]) \n",
    "    except:\n",
    "        print(f\"terminal {i} not found\")"
   ]
  },
  {
   "cell_type": "code",
   "execution_count": 336,
   "id": "5dc7316f",
   "metadata": {},
   "outputs": [
    {
     "name": "stdout",
     "output_type": "stream",
     "text": [
      "jupyter_avg:  [[1, 147.48859977722168], [2, 87.23228883743289], [3, 84.40048408508302], [4, 81.73767375946049], [5, 82.05475568771371], [6, 103.67880773544314], [7, 87.17629814147955], [8, 166.09720182418823], [9, 165.78090858459478], [10, 93.709801197052], [11, 84.16171693801878], [12, 79.43385982513432], [13, 78.1919784545894], [14, 78.46044445037845], [15, 83.81388044357301], [16, 78.04465389251715], [17, 80.63219213485722], [18, 168.74543380737308], [19, 104.68005275726323], [20, 81.48006916046147]]\n",
      "\n",
      "\n",
      "pycharm_avg:  [[1, 1579.1362137794495], [2, 1528.637767791748], [3, 1582.359522819519], [4, 1470.437575340271], [5, 1540.015884399414], [6, 1516.4822244644165], [7, 1450.1304593086243], [8, 1474.0550894737244], [9, 1542.5844192504883], [10, 1480.0242066383362], [11, 1472.6826071739197], [12, 1535.5578517913818], [13, 1485.2592706680298], [14, 1510.7697024345398], [15, 1405.394760131836], [16, 1463.4648671150208], [17, 1502.3233733177185], [18, 1529.313859462738], [19, 1527.7940611839294], [20, 1500.3811621665955]]\n",
      "\n",
      "\n",
      "terminal_avg:  [[1, 66.03753232955935], [2, 68.46359872817996], [3, 63.877279281616225], [4, 62.17446899414064], [5, 62.97588920593263], [6, 62.17982053756665], [7, 65.88655185699463], [8, 148.83390617370605], [9, 66.48616456985475], [10, 68.51025485992437], [11, 66.72001075744633], [12, 61.86573028564454], [13, 61.71459436416627], [14, 67.97644281387329], [15, 70.13494920730591], [16, 63.739790916442885], [17, 67.41254186630253], [18, 124.77546739578248], [19, 67.40484142303472], [20, 63.59888839721682]]\n"
     ]
    }
   ],
   "source": [
    "print(\"jupyter_avg: \", jupyter_avg)\n",
    "print(\"\\n\")\n",
    "print(\"pycharm_avg: \", pycharm_avg)\n",
    "print(\"\\n\")\n",
    "print(\"terminal_avg: \", terminal_avg) #removed 2"
   ]
  },
  {
   "cell_type": "code",
   "execution_count": 337,
   "id": "6114135d",
   "metadata": {},
   "outputs": [
    {
     "name": "stdout",
     "output_type": "stream",
     "text": [
      "[66.03753232955935, 68.46359872817996, 63.877279281616225, 62.17446899414064, 62.97588920593263, 62.17982053756665, 65.88655185699463, 148.83390617370605, 66.48616456985475, 68.51025485992437, 66.72001075744633, 61.86573028564454, 61.71459436416627, 67.97644281387329, 70.13494920730591, 63.739790916442885, 67.41254186630253, 124.77546739578248, 67.40484142303472, 63.59888839721682]\n"
     ]
    }
   ],
   "source": [
    "l = [x[1] for x in terminal_avg]\n",
    "print(l)"
   ]
  },
  {
   "cell_type": "code",
   "execution_count": 338,
   "id": "4102405d",
   "metadata": {},
   "outputs": [],
   "source": [
    "t = [66.03753232955935, 68.46359872817996, 63.877279281616225, 62.17446899414064, 62.97588920593263, 62.17982053756665, 65.88655185699463, 66.48616456985475, 68.51025485992437, 66.72001075744633, 61.86573028564454, 61.71459436416627, 67.97644281387329, 70.13494920730591, 63.739790916442885, 67.41254186630253, 67.40484142303472, 63.59888839721682]\n",
    "terminal_avg = list(zip(range(1,len(t)+1),t))\n",
    "\n",
    "j = [ 87.23228883743289, 84.40048408508302, 81.73767375946049, 82.05475568771371, 87.17629814147955, 93.709801197052, 84.16171693801878, 79.43385982513432, 78.1919784545894, 78.46044445037845, 83.81388044357301, 78.04465389251715, 80.63219213485722,  81.48006916046147]\n",
    "jupyter_avg = list(zip(range(1,len(j)+1),j))"
   ]
  },
  {
   "cell_type": "code",
   "execution_count": 339,
   "id": "473ff60b",
   "metadata": {},
   "outputs": [
    {
     "data": {
      "text/html": [
       "<div>\n",
       "<style scoped>\n",
       "    .dataframe tbody tr th:only-of-type {\n",
       "        vertical-align: middle;\n",
       "    }\n",
       "\n",
       "    .dataframe tbody tr th {\n",
       "        vertical-align: top;\n",
       "    }\n",
       "\n",
       "    .dataframe thead th {\n",
       "        text-align: right;\n",
       "    }\n",
       "</style>\n",
       "<table border=\"1\" class=\"dataframe\">\n",
       "  <thead>\n",
       "    <tr style=\"text-align: right;\">\n",
       "      <th></th>\n",
       "      <th>run</th>\n",
       "      <th>power_watts</th>\n",
       "    </tr>\n",
       "  </thead>\n",
       "  <tbody>\n",
       "    <tr>\n",
       "      <th>0</th>\n",
       "      <td>1</td>\n",
       "      <td>66.037532</td>\n",
       "    </tr>\n",
       "    <tr>\n",
       "      <th>1</th>\n",
       "      <td>2</td>\n",
       "      <td>68.463599</td>\n",
       "    </tr>\n",
       "    <tr>\n",
       "      <th>2</th>\n",
       "      <td>3</td>\n",
       "      <td>63.877279</td>\n",
       "    </tr>\n",
       "    <tr>\n",
       "      <th>3</th>\n",
       "      <td>4</td>\n",
       "      <td>62.174469</td>\n",
       "    </tr>\n",
       "    <tr>\n",
       "      <th>4</th>\n",
       "      <td>5</td>\n",
       "      <td>62.975889</td>\n",
       "    </tr>\n",
       "  </tbody>\n",
       "</table>\n",
       "</div>"
      ],
      "text/plain": [
       "   run  power_watts\n",
       "0    1    66.037532\n",
       "1    2    68.463599\n",
       "2    3    63.877279\n",
       "3    4    62.174469\n",
       "4    5    62.975889"
      ]
     },
     "execution_count": 339,
     "metadata": {},
     "output_type": "execute_result"
    }
   ],
   "source": [
    "df_jupyter_avg = pd.DataFrame(jupyter_avg, columns = ['run','power_watts'])\n",
    "df_jupyter_avg.head()\n",
    "\n",
    "df_pycharm_avg = pd.DataFrame(pycharm_avg, columns = ['run','power_watts'])\n",
    "df_pycharm_avg.head()\n",
    "\n",
    "df_terminal_avg = pd.DataFrame(terminal_avg, columns = ['run','power_watts'])\n",
    "df_terminal_avg.head()"
   ]
  },
  {
   "cell_type": "code",
   "execution_count": 340,
   "id": "bd3f0877",
   "metadata": {},
   "outputs": [
    {
     "data": {
      "image/png": "[encoded data removed]",
      "text/plain": [
       "<Figure size 432x288 with 1 Axes>"
      ]
     },
     "metadata": {
      "needs_background": "light"
     },
     "output_type": "display_data"
    }
   ],
   "source": [
    "fig, axes = plt.subplots()\n",
    "\n",
    "axes.violinplot(dataset = [df_jupyter_avg[\"power_watts\"].values,\n",
    "                           df_pycharm_avg[\"power_watts\"].values,\n",
    "                           df_terminal_avg[\"power_watts\"].values])\n",
    "\n",
    "axes.set_xticks([1, 2, 3])\n",
    "axes.set_xticklabels(['Jupyter', 'PyCharm', 'Terminal'])\n",
    "plt.title('Power Consumption for File Size 2.83 GB')\n",
    "plt.ylabel(\"Power consumed in Watts\")\n",
    "\n",
    "plt.show() #eighth"
   ]
  },
  {
   "cell_type": "code",
   "execution_count": null,
   "id": "b03e2aa3",
   "metadata": {},
   "outputs": [],
   "source": []
  },
  {
   "cell_type": "code",
   "execution_count": null,
   "id": "d189aa2e",
   "metadata": {},
   "outputs": [],
   "source": []
  }
 ],
 "metadata": {
  "kernelspec": {
   "display_name": "Python 3",
   "language": "python",
   "name": "python3"
  },
  "language_info": {
   "codemirror_mode": {
    "name": "ipython",
    "version": 3
   },
   "file_extension": ".py",
   "mimetype": "text/x-python",
   "name": "python",
   "nbconvert_exporter": "python",
   "pygments_lexer": "ipython3",
   "version": "3.8.8"
  }
 },
 "nbformat": 4,
 "nbformat_minor": 5
}

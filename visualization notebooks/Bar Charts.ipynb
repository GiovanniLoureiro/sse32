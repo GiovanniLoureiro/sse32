{
 "cells": [
  {
   "cell_type": "code",
   "execution_count": 19,
   "id": "35d07a4a",
   "metadata": {},
   "outputs": [],
   "source": [
    "import pandas as pd\n",
    "import matplotlib.pyplot as plt"
   ]
  },
  {
   "cell_type": "code",
   "execution_count": 20,
   "id": "6192a92d",
   "metadata": {},
   "outputs": [],
   "source": [
    "################# QUARTER ###############\n",
    "\n",
    "jupyter_avg = []\n",
    "for i in range(1,21):\n",
    "    try:\n",
    "        df_temp = pd.read_csv(f\"results_3\\\\results\\\\jupyter_quarter{i}.csv\")\n",
    "        min_val = df_temp['SYSTEM_POWER (Watts)'].min()\n",
    "#         print(min_val)\n",
    "        df_temp['SYSTEM_POWER (Watts)'] = df_temp['SYSTEM_POWER (Watts)'] - min_val\n",
    "#         df_temp = df_temp[df_temp['SYSTEM_POWER (Watts)'] >= 7]\n",
    "        jupyter_avg.append([i, df_temp['SYSTEM_POWER (Watts)'].sum()])\n",
    "    except:\n",
    "        print(f\"file jupyter {i} not found\")\n",
    "    \n",
    "    \n",
    "pycharm_avg = []\n",
    "for i in range(1,21):\n",
    "    try:\n",
    "        df_temp = pd.read_csv(f\"results_3\\\\results\\\\pycharm_quarter{i}.csv\")\n",
    "        min_val = df_temp['SYSTEM_POWER (Watts)'].min()\n",
    "#         print(min_val)\n",
    "        df_temp['SYSTEM_POWER (Watts)'] = df_temp['SYSTEM_POWER (Watts)'] - min_val\n",
    "#         df_temp = df_temp[df_temp['SYSTEM_POWER (Watts)'] >= 7]\n",
    "        pycharm_avg.append([i, df_temp['SYSTEM_POWER (Watts)'].sum()])\n",
    "    except:\n",
    "        print(f\"file pycharm {i} not found\")\n",
    "    \n",
    "    \n",
    "terminal_avg = []\n",
    "for i in range(1,21):\n",
    "    try:\n",
    "        df_temp = pd.read_csv(f\"results_3\\\\results\\\\terminal_quarter{i}.csv\")\n",
    "        min_val = df_temp['SYSTEM_POWER (Watts)'].min()\n",
    "#         print(min_val)\n",
    "        df_temp['SYSTEM_POWER (Watts)'] = df_temp['SYSTEM_POWER (Watts)'] - min_val\n",
    "#         df_temp = df_temp[df_temp['SYSTEM_POWER (Watts)'] >= 7]\n",
    "        terminal_avg.append([i, df_temp['SYSTEM_POWER (Watts)'].sum()])     \n",
    "    except:\n",
    "        print(f\"file terminal {i} not found\")"
   ]
  },
  {
   "cell_type": "code",
   "execution_count": 21,
   "id": "ced40722",
   "metadata": {},
   "outputs": [
    {
     "name": "stdout",
     "output_type": "stream",
     "text": [
      "905.7998124361038\n",
      "2821.5970442056655\n",
      "793.8302697658539\n"
     ]
    }
   ],
   "source": [
    "jupyter_avg_1 = 0\n",
    "for i in jupyter_avg:\n",
    "    jupyter_avg_1 += i[1]\n",
    "jupyter_avg_1 = jupyter_avg_1/20\n",
    "print(jupyter_avg_1)\n",
    "\n",
    "\n",
    "pycharm_avg_1 = 0\n",
    "for i in pycharm_avg:\n",
    "    pycharm_avg_1 += i[1]\n",
    "pycharm_avg_1 = pycharm_avg_1/20\n",
    "print(pycharm_avg_1)\n",
    "\n",
    "\n",
    "terminal_avg_1 = 0\n",
    "for i in terminal_avg:\n",
    "    terminal_avg_1 += i[1]\n",
    "\n",
    "terminal_avg_1 = terminal_avg_1/20\n",
    "print(terminal_avg_1)"
   ]
  },
  {
   "cell_type": "code",
   "execution_count": 22,
   "id": "7bdf0d49",
   "metadata": {},
   "outputs": [
    {
     "data": {
      "image/png": "[encoded data removed]",
      "text/plain": [
       "<Figure size 432x288 with 1 Axes>"
      ]
     },
     "metadata": {
      "needs_background": "light"
     },
     "output_type": "display_data"
    }
   ],
   "source": [
    "plt.bar([\"Jupyter\", \"PyCharm\", \"Terminal\"], [jupyter_avg_1, pycharm_avg_1, terminal_avg_1], width = 0.4)\n",
    "plt.xlabel(\"Environment\")\n",
    "plt.ylabel(\"Average Power Consumption in Watts\")\n",
    "plt.title(\"Average Power Consumption for 1.42 GB\")\n",
    "plt.show()"
   ]
  },
  {
   "cell_type": "code",
   "execution_count": 23,
   "id": "70761c66",
   "metadata": {},
   "outputs": [],
   "source": [
    "################# HALF ###############\n",
    "\n",
    "jupyter_avg = []\n",
    "for i in range(1,21):\n",
    "    try:\n",
    "        df_temp = pd.read_csv(f\"results_3\\\\results\\\\jupyter_half{i}.csv\")\n",
    "        min_val = df_temp['SYSTEM_POWER (Watts)'].min()\n",
    "#         print(min_val)\n",
    "        df_temp['SYSTEM_POWER (Watts)'] = df_temp['SYSTEM_POWER (Watts)'] - min_val\n",
    "#         df_temp = df_temp[df_temp['SYSTEM_POWER (Watts)'] >= 7]\n",
    "        jupyter_avg.append([i, df_temp['SYSTEM_POWER (Watts)'].sum()])\n",
    "    except Exception as error:\n",
    "        print(f\"file jupyter {i} not found\") \n",
    "#         print(error)\n",
    "    \n",
    "pycharm_avg = []\n",
    "for i in range(1,21):\n",
    "    try:\n",
    "        df_temp = pd.read_csv(f\"results_3\\\\results\\\\pycharm_half{i}.csv\")\n",
    "        min_val = df_temp['SYSTEM_POWER (Watts)'].min()\n",
    "#         print(min_val)\n",
    "        df_temp['SYSTEM_POWER (Watts)'] = df_temp['SYSTEM_POWER (Watts)'] - min_val\n",
    "#         df_temp = df_temp[df_temp['SYSTEM_POWER (Watts)'] >= 7]\n",
    "        pycharm_avg.append([i, df_temp['SYSTEM_POWER (Watts)'].sum()])\n",
    "    except Exception as error:\n",
    "        print(f\"file pycharm {i} not found\") \n",
    "#         print(error)\n",
    "    \n",
    "    \n",
    "terminal_avg = []\n",
    "for i in range(1,21):\n",
    "    try:\n",
    "        df_temp = pd.read_csv(f\"results_3\\\\results\\\\terminal_half{i}.csv\")\n",
    "        min_val = df_temp['SYSTEM_POWER (Watts)'].min()\n",
    "#         print(min_val)\n",
    "        df_temp['SYSTEM_POWER (Watts)'] = df_temp['SYSTEM_POWER (Watts)'] - min_val\n",
    "#         df_temp = df_temp[df_temp['SYSTEM_POWER (Watts)'] >= 7]\n",
    "        terminal_avg.append([i, df_temp['SYSTEM_POWER (Watts)'].sum()])     \n",
    "    except Exception as error:\n",
    "        print(f\"file terminal {i} not found\")   \n",
    "#         print(error)"
   ]
  },
  {
   "cell_type": "code",
   "execution_count": 24,
   "id": "f39de437",
   "metadata": {},
   "outputs": [
    {
     "name": "stdout",
     "output_type": "stream",
     "text": [
      "1608.7802446126939\n",
      "4165.0361246109005\n",
      "1581.2553319454194\n"
     ]
    }
   ],
   "source": [
    "jupyter_avg_1 = 0\n",
    "for i in jupyter_avg:\n",
    "    jupyter_avg_1 += i[1]\n",
    "jupyter_avg_1 = jupyter_avg_1/20\n",
    "print(jupyter_avg_1)\n",
    "\n",
    "\n",
    "pycharm_avg_1 = 0\n",
    "for i in pycharm_avg:\n",
    "    pycharm_avg_1 += i[1]\n",
    "pycharm_avg_1 = pycharm_avg_1/20\n",
    "print(pycharm_avg_1)\n",
    "\n",
    "\n",
    "terminal_avg_1 = 0\n",
    "for i in terminal_avg:\n",
    "    terminal_avg_1 += i[1]\n",
    "\n",
    "terminal_avg_1 = terminal_avg_1/20\n",
    "print(terminal_avg_1)"
   ]
  },
  {
   "cell_type": "code",
   "execution_count": 25,
   "id": "e9b90f67",
   "metadata": {},
   "outputs": [
    {
     "data": {
      "image/png": "[encoded data removed]",
      "text/plain": [
       "<Figure size 432x288 with 1 Axes>"
      ]
     },
     "metadata": {
      "needs_background": "light"
     },
     "output_type": "display_data"
    }
   ],
   "source": [
    "plt.bar([\"Jupyter\", \"PyCharm\", \"Terminal\"], [jupyter_avg_1, pycharm_avg_1, terminal_avg_1], width = 0.4)\n",
    "plt.xlabel(\"Environment\")\n",
    "plt.ylabel(\"Average Power Consumption in Watts\")\n",
    "plt.title(\"Average Power Consumption for 2.83 GB\")\n",
    "plt.show()"
   ]
  },
  {
   "cell_type": "code",
   "execution_count": 26,
   "id": "cfef6dff",
   "metadata": {},
   "outputs": [],
   "source": [
    "################# EIGHTH ###############\n",
    "\n",
    "jupyter_avg = []\n",
    "for i in range(1,21):\n",
    "    try:\n",
    "        df_temp = pd.read_csv(f\"res_eighth\\\\jupyter_eigth{i}.csv\")\n",
    "        min_val = df_temp['SYSTEM_POWER (Watts)'].min()\n",
    "#         print(min_val)\n",
    "        df_temp['SYSTEM_POWER (Watts)'] = df_temp['SYSTEM_POWER (Watts)'] - min_val\n",
    "        jupyter_avg.append([i, df_temp['SYSTEM_POWER (Watts)'].sum()])\n",
    "    except:\n",
    "        print(f\"jupyter {i} not found\")        \n",
    "    \n",
    "pycharm_avg = []\n",
    "for i in range(1,21):\n",
    "    try:\n",
    "        df_temp = pd.read_csv(f\"res_eighth\\\\pycharm_eigth{i}.csv\")\n",
    "        min_val = df_temp['SYSTEM_POWER (Watts)'].min()\n",
    "#         print(min_val)\n",
    "        df_temp['SYSTEM_POWER (Watts)'] = df_temp['SYSTEM_POWER (Watts)'] - min_val\n",
    "        pycharm_avg.append([i, df_temp['SYSTEM_POWER (Watts)'].sum()])\n",
    "    except:\n",
    "        print(f\"pycharm {i} not found\")     \n",
    "    \n",
    "terminal_avg = []\n",
    "for i in range(1,21):\n",
    "    try:\n",
    "        df_temp = pd.read_csv(f\"res_eighth\\\\terminal_eigth{i}.csv\")\n",
    "        min_val = df_temp['SYSTEM_POWER (Watts)'].min()\n",
    "#         print(min_val)\n",
    "        df_temp['SYSTEM_POWER (Watts)'] = df_temp['SYSTEM_POWER (Watts)'] - min_val\n",
    "        terminal_avg.append([i, df_temp['SYSTEM_POWER (Watts)'].sum()]) \n",
    "    except:\n",
    "        print(f\"terminal {i} not found\")"
   ]
  },
  {
   "cell_type": "code",
   "execution_count": 27,
   "id": "6df114d4",
   "metadata": {},
   "outputs": [
    {
     "name": "stdout",
     "output_type": "stream",
     "text": [
      "100.85005507469177\n",
      "1504.840243935585\n",
      "72.53843619823454\n"
     ]
    }
   ],
   "source": [
    "jupyter_avg_1 = 0\n",
    "for i in jupyter_avg:\n",
    "    jupyter_avg_1 += i[1]\n",
    "jupyter_avg_1 = jupyter_avg_1/20\n",
    "print(jupyter_avg_1)\n",
    "\n",
    "\n",
    "pycharm_avg_1 = 0\n",
    "for i in pycharm_avg:\n",
    "    pycharm_avg_1 += i[1]\n",
    "pycharm_avg_1 = pycharm_avg_1/20\n",
    "print(pycharm_avg_1)\n",
    "\n",
    "\n",
    "terminal_avg_1 = 0\n",
    "for i in terminal_avg:\n",
    "    terminal_avg_1 += i[1]\n",
    "\n",
    "terminal_avg_1 = terminal_avg_1/20\n",
    "print(terminal_avg_1)"
   ]
  },
  {
   "cell_type": "code",
   "execution_count": 28,
   "id": "3e359973",
   "metadata": {},
   "outputs": [
    {
     "data": {
      "image/png": "[encoded data removed]",
      "text/plain": [
       "<Figure size 432x288 with 1 Axes>"
      ]
     },
     "metadata": {
      "needs_background": "light"
     },
     "output_type": "display_data"
    }
   ],
   "source": [
    "plt.bar([\"Jupyter\", \"PyCharm\", \"Terminal\"], [jupyter_avg_1, pycharm_avg_1, terminal_avg_1], width = 0.4)\n",
    "plt.xlabel(\"Environment\")\n",
    "plt.ylabel(\"Average Power Consumption in Watts\")\n",
    "plt.title(\"Average Power Consumption for 0.71 GB\")\n",
    "plt.show()"
   ]
  },
  {
   "cell_type": "code",
   "execution_count": null,
   "id": "eaf0fa34",
   "metadata": {},
   "outputs": [],
   "source": []
  }
 ],
 "metadata": {
  "kernelspec": {
   "display_name": "Python 3",
   "language": "python",
   "name": "python3"
  },
  "language_info": {
   "codemirror_mode": {
    "name": "ipython",
    "version": 3
   },
   "file_extension": ".py",
   "mimetype": "text/x-python",
   "name": "python",
   "nbconvert_exporter": "python",
   "pygments_lexer": "ipython3",
   "version": "3.8.8"
  }
 },
 "nbformat": 4,
 "nbformat_minor": 5
}
